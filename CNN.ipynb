{
  "cells": [
    {
      "cell_type": "markdown",
      "metadata": {
        "id": "KbEL4gJMvq9-"
      },
      "source": [
        "## Imports"
      ]
    },
    {
      "cell_type": "code",
      "execution_count": null,
      "metadata": {
        "colab": {
          "base_uri": "https://localhost:8080/"
        },
        "id": "dxfrTXn75ZU_",
        "outputId": "4fc3eae6-d507-4af0-ae66-66b9a2e16de0"
      },
      "outputs": [
        {
          "name": "stdout",
          "output_type": "stream",
          "text": [
            "Drive already mounted at /content/drive; to attempt to forcibly remount, call drive.mount(\"/content/drive\", force_remount=True).\n"
          ]
        }
      ],
      "source": [
        "import matplotlib\n",
        "import numpy as np\n",
        "matplotlib.use(\"Agg\")  # Utilisation du backend non-interactif pour éviter les erreurs\n",
        "import tensorflow as tf\n",
        "from tensorflow.keras.models import Sequential\n",
        "from tensorflow.keras.layers import Conv2D, MaxPooling2D, Flatten, Dense, Dropout\n",
        "from tensorflow.keras.preprocessing.image import ImageDataGenerator\n",
        "import matplotlib.pyplot as plt\n",
        "import os\n",
        "from google.colab import drive\n",
        "drive.mount('dirve_path')"
      ]
    },
    {
      "cell_type": "markdown",
      "metadata": {
        "id": "caVhOrPgvvOK"
      },
      "source": [
        "## 1. Paramètres"
      ]
    },
    {
      "cell_type": "code",
      "execution_count": null,
      "metadata": {
        "id": "Fpvmxnj_WAeb"
      },
      "outputs": [],
      "source": [
        "DATASET_PATH = \"dataset_path\" # à adapter pour récupérer le dataset via un drive/dossier local/kaggle\n",
        "\n",
        "IMG_SIZE = 64\n",
        "BATCH_SIZE = 32\n",
        "EPOCHS = 15\n",
        "\n",
        "TRAIN_DIR = os.path.join(DATASET_PATH, \"train\")\n",
        "VAL_DIR = os.path.join(DATASET_PATH, \"val\")\n",
        "TEST_DIR = os.path.join(DATASET_PATH, \"test\")\n"
      ]
    },
    {
      "cell_type": "markdown",
      "metadata": {
        "id": "a6FmCyIcvyZu"
      },
      "source": [
        "## 2. Préparation des générateurs (sans augmentation)"
      ]
    },
    {
      "cell_type": "code",
      "execution_count": null,
      "metadata": {
        "id": "O_himg6EWBJ5"
      },
      "outputs": [],
      "source": [
        "plain_datagen = ImageDataGenerator(rescale=1./255)\n",
        "\n",
        "train_gen = plain_datagen.flow_from_directory(\n",
        "    TRAIN_DIR,\n",
        "    target_size=(IMG_SIZE, IMG_SIZE),\n",
        "    color_mode='grayscale',\n",
        "    class_mode='categorical',\n",
        "    batch_size=BATCH_SIZE,\n",
        "    shuffle=True\n",
        ")\n",
        "\n",
        "val_gen = plain_datagen.flow_from_directory(\n",
        "    VAL_DIR,\n",
        "    target_size=(IMG_SIZE, IMG_SIZE),\n",
        "    color_mode='grayscale',\n",
        "    class_mode='categorical',\n",
        "    batch_size=BATCH_SIZE,\n",
        "    shuffle=False\n",
        ")\n",
        "\n",
        "test_gen = plain_datagen.flow_from_directory(\n",
        "    TEST_DIR,\n",
        "    target_size=(IMG_SIZE, IMG_SIZE),\n",
        "    color_mode='grayscale',\n",
        "    class_mode='categorical',\n",
        "    batch_size=BATCH_SIZE,\n",
        "    shuffle=False\n",
        ")"
      ]
    },
    {
      "cell_type": "markdown",
      "metadata": {
        "id": "Cl3oGptpv2JQ"
      },
      "source": [
        "## 3. Création du modèle CNN"
      ]
    },
    {
      "cell_type": "code",
      "execution_count": null,
      "metadata": {
        "id": "s6PjKWevWBNU"
      },
      "outputs": [],
      "source": [
        "model = Sequential([\n",
        "    Conv2D(32, (3, 3), activation='relu', input_shape=(IMG_SIZE, IMG_SIZE, 1)),\n",
        "    MaxPooling2D(2, 2),\n",
        "\n",
        "    Conv2D(64, (3, 3), activation='relu'),\n",
        "    MaxPooling2D(2, 2),\n",
        "\n",
        "    Flatten(),\n",
        "    Dense(128, activation='relu'),\n",
        "    Dropout(0.5),\n",
        "    Dense(train_gen.num_classes, activation='softmax')\n",
        "])\n",
        "\n",
        "model.compile(\n",
        "    optimizer='adam',\n",
        "    loss='categorical_crossentropy',\n",
        "    metrics=['accuracy']\n",
        ")\n",
        "\n",
        "model.summary()"
      ]
    },
    {
      "cell_type": "markdown",
      "metadata": {
        "id": "M4hcL2wiv9N_"
      },
      "source": []
    },
    {
      "cell_type": "markdown",
      "metadata": {
        "id": "KGyZ5yNrv_uG"
      },
      "source": [
        "## 4. Entraînement"
      ]
    },
    {
      "cell_type": "code",
      "execution_count": null,
      "metadata": {
        "colab": {
          "base_uri": "https://localhost:8080/"
        },
        "id": "Dm5VDvW_WBP9",
        "outputId": "fa51616e-1fd8-4755-ebbb-d4721df465ae"
      },
      "outputs": [
        {
          "name": "stderr",
          "output_type": "stream",
          "text": [
            "/usr/local/lib/python3.11/dist-packages/keras/src/trainers/data_adapters/py_dataset_adapter.py:121: UserWarning: Your `PyDataset` class should call `super().__init__(**kwargs)` in its constructor. `**kwargs` can include `workers`, `use_multiprocessing`, `max_queue_size`. Do not pass these arguments to `fit()`, as they will be ignored.\n",
            "  self._warn_if_super_not_called()\n"
          ]
        },
        {
          "name": "stdout",
          "output_type": "stream",
          "text": [
            "Epoch 1/15\n",
            "\u001b[1m376/376\u001b[0m \u001b[32m━━━━━━━━━━━━━━━━━━━━\u001b[0m\u001b[37m\u001b[0m \u001b[1m139s\u001b[0m 342ms/step - accuracy: 0.4504 - loss: 1.4350 - val_accuracy: 0.8969 - val_loss: 0.3498\n",
            "Epoch 2/15\n",
            "\u001b[1m376/376\u001b[0m \u001b[32m━━━━━━━━━━━━━━━━━━━━\u001b[0m\u001b[37m\u001b[0m \u001b[1m132s\u001b[0m 350ms/step - accuracy: 0.8409 - loss: 0.4565 - val_accuracy: 0.9631 - val_loss: 0.1495\n",
            "Epoch 3/15\n",
            "\u001b[1m376/376\u001b[0m \u001b[32m━━━━━━━━━━━━━━━━━━━━\u001b[0m\u001b[37m\u001b[0m \u001b[1m136s\u001b[0m 334ms/step - accuracy: 0.8975 - loss: 0.2918 - val_accuracy: 0.9716 - val_loss: 0.1033\n",
            "Epoch 4/15\n",
            "\u001b[1m376/376\u001b[0m \u001b[32m━━━━━━━━━━━━━━━━━━━━\u001b[0m\u001b[37m\u001b[0m \u001b[1m139s\u001b[0m 326ms/step - accuracy: 0.9294 - loss: 0.1977 - val_accuracy: 0.9783 - val_loss: 0.0795\n",
            "Epoch 5/15\n",
            "\u001b[1m376/376\u001b[0m \u001b[32m━━━━━━━━━━━━━━━━━━━━\u001b[0m\u001b[37m\u001b[0m \u001b[1m143s\u001b[0m 328ms/step - accuracy: 0.9409 - loss: 0.1598 - val_accuracy: 0.9811 - val_loss: 0.0645\n",
            "Epoch 6/15\n",
            "\u001b[1m376/376\u001b[0m \u001b[32m━━━━━━━━━━━━━━━━━━━━\u001b[0m\u001b[37m\u001b[0m \u001b[1m124s\u001b[0m 329ms/step - accuracy: 0.9522 - loss: 0.1316 - val_accuracy: 0.9861 - val_loss: 0.0544\n",
            "Epoch 7/15\n",
            "\u001b[1m376/376\u001b[0m \u001b[32m━━━━━━━━━━━━━━━━━━━━\u001b[0m\u001b[37m\u001b[0m \u001b[1m145s\u001b[0m 335ms/step - accuracy: 0.9607 - loss: 0.1109 - val_accuracy: 0.9833 - val_loss: 0.0576\n",
            "Epoch 8/15\n",
            "\u001b[1m376/376\u001b[0m \u001b[32m━━━━━━━━━━━━━━━━━━━━\u001b[0m\u001b[37m\u001b[0m \u001b[1m122s\u001b[0m 325ms/step - accuracy: 0.9636 - loss: 0.1035 - val_accuracy: 0.9893 - val_loss: 0.0443\n",
            "Epoch 9/15\n",
            "\u001b[1m376/376\u001b[0m \u001b[32m━━━━━━━━━━━━━━━━━━━━\u001b[0m\u001b[37m\u001b[0m \u001b[1m144s\u001b[0m 330ms/step - accuracy: 0.9683 - loss: 0.0876 - val_accuracy: 0.9883 - val_loss: 0.0456\n",
            "Epoch 10/15\n",
            "\u001b[1m376/376\u001b[0m \u001b[32m━━━━━━━━━━━━━━━━━━━━\u001b[0m\u001b[37m\u001b[0m \u001b[1m142s\u001b[0m 331ms/step - accuracy: 0.9686 - loss: 0.0865 - val_accuracy: 0.9898 - val_loss: 0.0372\n",
            "Epoch 11/15\n",
            "\u001b[1m376/376\u001b[0m \u001b[32m━━━━━━━━━━━━━━━━━━━━\u001b[0m\u001b[37m\u001b[0m \u001b[1m121s\u001b[0m 322ms/step - accuracy: 0.9714 - loss: 0.0782 - val_accuracy: 0.9885 - val_loss: 0.0492\n",
            "Epoch 12/15\n",
            "\u001b[1m376/376\u001b[0m \u001b[32m━━━━━━━━━━━━━━━━━━━━\u001b[0m\u001b[37m\u001b[0m \u001b[1m124s\u001b[0m 330ms/step - accuracy: 0.9780 - loss: 0.0624 - val_accuracy: 0.9893 - val_loss: 0.0405\n",
            "Epoch 13/15\n",
            "\u001b[1m376/376\u001b[0m \u001b[32m━━━━━━━━━━━━━━━━━━━━\u001b[0m\u001b[37m\u001b[0m \u001b[1m124s\u001b[0m 330ms/step - accuracy: 0.9800 - loss: 0.0582 - val_accuracy: 0.9895 - val_loss: 0.0414\n",
            "Epoch 14/15\n",
            "\u001b[1m376/376\u001b[0m \u001b[32m━━━━━━━━━━━━━━━━━━━━\u001b[0m\u001b[37m\u001b[0m \u001b[1m146s\u001b[0m 340ms/step - accuracy: 0.9829 - loss: 0.0531 - val_accuracy: 0.9868 - val_loss: 0.0509\n",
            "Epoch 15/15\n",
            "\u001b[1m376/376\u001b[0m \u001b[32m━━━━━━━━━━━━━━━━━━━━\u001b[0m\u001b[37m\u001b[0m \u001b[1m159s\u001b[0m 385ms/step - accuracy: 0.9827 - loss: 0.0508 - val_accuracy: 0.9890 - val_loss: 0.0418\n"
          ]
        }
      ],
      "source": [
        "history = model.fit(\n",
        "    train_gen,\n",
        "    validation_data=val_gen,\n",
        "    epochs=EPOCHS\n",
        ")"
      ]
    },
    {
      "cell_type": "markdown",
      "metadata": {
        "id": "eQJNACUTwE6R"
      },
      "source": [
        "## 5. Évaluation sur test"
      ]
    },
    {
      "cell_type": "code",
      "execution_count": null,
      "metadata": {
        "colab": {
          "base_uri": "https://localhost:8080/"
        },
        "id": "QLj1f2moWBSb",
        "outputId": "c9328da5-9783-489d-ff36-20efb284f1d2"
      },
      "outputs": [
        {
          "name": "stdout",
          "output_type": "stream",
          "text": [
            "\u001b[1m128/128\u001b[0m \u001b[32m━━━━━━━━━━━━━━━━━━━━\u001b[0m\u001b[37m\u001b[0m \u001b[1m1437s\u001b[0m 11s/step - accuracy: 0.9905 - loss: 0.0388\n",
            "\n",
            "Test Accuracy : 0.9907135963439941\n"
          ]
        }
      ],
      "source": [
        "test_loss, test_acc = model.evaluate(test_gen)\n",
        "print(\"\\nTest Accuracy :\", test_acc)"
      ]
    },
    {
      "cell_type": "markdown",
      "metadata": {
        "id": "cWO8zj62wHwd"
      },
      "source": [
        "## 6. Courbes d'apprentissage sauvegardées"
      ]
    },
    {
      "cell_type": "code",
      "execution_count": null,
      "metadata": {
        "colab": {
          "base_uri": "https://localhost:8080/",
          "height": 211
        },
        "id": "myCGsFKnWBUw",
        "outputId": "e2816776-0b4e-4240-cf21-0f699fb678b2"
      },
      "outputs": [
        {
          "ename": "NameError",
          "evalue": "name 'plt' is not defined",
          "output_type": "error",
          "traceback": [
            "\u001b[0;31m---------------------------------------------------------------------------\u001b[0m",
            "\u001b[0;31mNameError\u001b[0m                                 Traceback (most recent call last)",
            "\u001b[0;32m<ipython-input-2-3e7d8f485412>\u001b[0m in \u001b[0;36m<cell line: 0>\u001b[0;34m()\u001b[0m\n\u001b[1;32m      1\u001b[0m \u001b[0;31m# ===  ===\u001b[0m\u001b[0;34m\u001b[0m\u001b[0;34m\u001b[0m\u001b[0m\n\u001b[1;32m      2\u001b[0m \u001b[0;32mfrom\u001b[0m \u001b[0mIPython\u001b[0m\u001b[0;34m.\u001b[0m\u001b[0mdisplay\u001b[0m \u001b[0;32mimport\u001b[0m \u001b[0mImage\u001b[0m\u001b[0;34m,\u001b[0m \u001b[0mdisplay\u001b[0m\u001b[0;34m\u001b[0m\u001b[0;34m\u001b[0m\u001b[0m\n\u001b[0;32m----> 3\u001b[0;31m \u001b[0mfig1\u001b[0m \u001b[0;34m=\u001b[0m \u001b[0mplt\u001b[0m\u001b[0;34m.\u001b[0m\u001b[0mfigure\u001b[0m\u001b[0;34m(\u001b[0m\u001b[0;34m)\u001b[0m\u001b[0;34m\u001b[0m\u001b[0;34m\u001b[0m\u001b[0m\n\u001b[0m\u001b[1;32m      4\u001b[0m \u001b[0mplt\u001b[0m\u001b[0;34m.\u001b[0m\u001b[0mplot\u001b[0m\u001b[0;34m(\u001b[0m\u001b[0mhistory\u001b[0m\u001b[0;34m.\u001b[0m\u001b[0mhistory\u001b[0m\u001b[0;34m[\u001b[0m\u001b[0;34m'accuracy'\u001b[0m\u001b[0;34m]\u001b[0m\u001b[0;34m,\u001b[0m \u001b[0mlabel\u001b[0m\u001b[0;34m=\u001b[0m\u001b[0;34m'Train'\u001b[0m\u001b[0;34m)\u001b[0m\u001b[0;34m\u001b[0m\u001b[0;34m\u001b[0m\u001b[0m\n\u001b[1;32m      5\u001b[0m \u001b[0mplt\u001b[0m\u001b[0;34m.\u001b[0m\u001b[0mplot\u001b[0m\u001b[0;34m(\u001b[0m\u001b[0mhistory\u001b[0m\u001b[0;34m.\u001b[0m\u001b[0mhistory\u001b[0m\u001b[0;34m[\u001b[0m\u001b[0;34m'val_accuracy'\u001b[0m\u001b[0;34m]\u001b[0m\u001b[0;34m,\u001b[0m \u001b[0mlabel\u001b[0m\u001b[0;34m=\u001b[0m\u001b[0;34m'Validation'\u001b[0m\u001b[0;34m)\u001b[0m\u001b[0;34m\u001b[0m\u001b[0;34m\u001b[0m\u001b[0m\n",
            "\u001b[0;31mNameError\u001b[0m: name 'plt' is not defined"
          ]
        }
      ],
      "source": [
        "from IPython.display import Image, display\n",
        "fig1 = plt.figure()\n",
        "plt.plot(history.history['accuracy'], label='Train')\n",
        "plt.plot(history.history['val_accuracy'], label='Validation')\n",
        "plt.title('Accuracy')\n",
        "plt.xlabel('Epochs')\n",
        "plt.ylabel('Accuracy')\n",
        "plt.legend()\n",
        "plt.grid(True)\n",
        "fig1.savefig(\"accuracy.png\")\n",
        "\n",
        "\n",
        "fig2 = plt.figure()\n",
        "plt.plot(history.history['loss'], label='Train')\n",
        "plt.plot(history.history['val_loss'], label='Validation')\n",
        "plt.title('Loss')\n",
        "plt.xlabel('Epochs')\n",
        "plt.ylabel('Loss')\n",
        "plt.legend()\n",
        "plt.grid(True)\n",
        "fig2.savefig(\"loss.png\")\n",
        "\n",
        "display(Image(filename=\"accuracy.png\"))\n",
        "display(Image(filename=\"loss.png\"))"
      ]
    },
    {
      "cell_type": "markdown",
      "metadata": {
        "id": "yyax3AJlwOcP"
      },
      "source": [
        "## 7. Matrice de coût et accuracy pondérée"
      ]
    },
    {
      "cell_type": "code",
      "execution_count": null,
      "metadata": {
        "colab": {
          "base_uri": "https://localhost:8080/"
        },
        "id": "AgoMHhbIWBZy",
        "outputId": "38f34456-d158-4bb1-d45c-a2f411e93c01"
      },
      "outputs": [
        {
          "name": "stdout",
          "output_type": "stream",
          "text": [
            "\u001b[1m128/128\u001b[0m \u001b[32m━━━━━━━━━━━━━━━━━━━━\u001b[0m\u001b[37m\u001b[0m \u001b[1m26s\u001b[0m 203ms/step\n",
            "\n",
            "🎯 Accuracy pondérée (avec matrice de coûts) : 0.9942\n"
          ]
        }
      ],
      "source": [
        "from sklearn.metrics import confusion_matrix\n",
        "\n",
        "y_true = test_gen.classes\n",
        "y_pred_probs = model.predict(test_gen)\n",
        "y_pred = np.argmax(y_pred_probs, axis=1)\n",
        "\n",
        "# Assure-toi que ce mapping correspond bien à l'ordre des classes\n",
        "label_map = test_gen.class_indices\n",
        "inverse_label_map = {v: k for k, v in label_map.items()}\n",
        "class_names = [inverse_label_map[i] for i in range(len(inverse_label_map))]\n",
        "\n",
        "cost_dict = {\n",
        "    'circle':         [0, 7, 8, 8, 8, 8, 6, 9],\n",
        "    'kite':           [7, 0, 4, 5, 3, 4, 5, 6],\n",
        "    'parallelogram':  [8, 4, 0, 2, 3, 2, 3, 7],\n",
        "    'rectangle':      [8, 5, 2, 0, 3, 1, 3, 6],\n",
        "    'rhombus':        [8, 3, 3, 3, 0, 1, 4, 6],\n",
        "    'square':         [8, 4, 2, 1, 1, 0, 3, 6],\n",
        "    'trapezoid':      [6, 5, 3, 3, 4, 3, 0, 5],\n",
        "    'triangle':       [9, 6, 7, 6, 6, 6, 5, 0],\n",
        "}\n",
        "\n",
        "cost_matrix = np.array([cost_dict[cls] for cls in class_names])\n",
        "\n",
        "cm = confusion_matrix(y_true, y_pred, labels=range(len(class_names)))\n",
        "weighted_error = np.sum(cm * cost_matrix)\n",
        "max_possible_error = np.sum(cm) * np.max(cost_matrix)\n",
        "weighted_acc = 1 - (weighted_error / max_possible_error)\n",
        "\n",
        "print(f\"\\n Accuracy pondérée (avec matrice de coûts) : {weighted_acc:.4f}\")"
      ]
    },
    {
      "cell_type": "markdown",
      "metadata": {
        "id": "a1x_7IJ6wTdk"
      },
      "source": [
        "## 8. Matrice de confusion"
      ]
    },
    {
      "cell_type": "code",
      "execution_count": null,
      "metadata": {
        "colab": {
          "base_uri": "https://localhost:8080/",
          "height": 617
        },
        "id": "5J8TmPLFWBhF",
        "outputId": "85ea4df7-90d9-426a-dda3-fc32e8f298f2"
      },
      "outputs": [
        {
          "data": {
            "image/png": "[encoded data removed]",
            "text/plain": [
              "<IPython.core.display.Image object>"
            ]
          },
          "metadata": {},
          "output_type": "display_data"
        }
      ],
      "source": [
        "import seaborn as sns\n",
        "\n",
        "\n",
        "fig3 = plt.figure(figsize=(8, 6))\n",
        "sns.heatmap(cm, annot=True, fmt='d', cmap='Blues', xticklabels=class_names, yticklabels=class_names)\n",
        "plt.xlabel('Prédictions')\n",
        "plt.ylabel('Vrais labels')\n",
        "plt.title('Matrice de confusion')\n",
        "fig3.savefig(\"confmat.png\")\n",
        "display(Image(filename=\"confmat.png\"))\n"
      ]
    }
  ],
  "metadata": {
    "colab": {
      "provenance": [],
      "toc_visible": true
    },
    "kernelspec": {
      "display_name": "Python 3",
      "name": "python3"
    },
    "language_info": {
      "name": "python"
    }
  },
  "nbformat": 4,
  "nbformat_minor": 0
}
